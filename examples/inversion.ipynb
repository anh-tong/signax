{
 "cells": [
  {
   "cell_type": "markdown",
   "metadata": {},
   "source": [
    "## Signature Inversion\n",
    "\n",
    "This notebook follows Section 3.6 of [Deep Signature Transforms](https://arxiv.org/pdf/1905.08494.pdf). PyTorch code can be found at [this](https://github.com/patrick-kidger/Deep-Signature-Transforms/blob/master/src/example_signature_inversion.ipynb)"
   ]
  },
  {
   "cell_type": "code",
   "execution_count": 1,
   "metadata": {},
   "outputs": [],
   "source": [
    "import equinox as eqx\n",
    "import jax\n",
    "import jax.numpy as jnp\n",
    "import jax.random as jrandom\n",
    "import matplotlib.pyplot as plt\n",
    "import numpy as np\n",
    "import optax\n",
    "from signax.signature_flattened import signature\n",
    "\n",
    "\n",
    "jax.config.update(\"jax_platform_name\", \"cpu\")"
   ]
  },
  {
   "cell_type": "code",
   "execution_count": 2,
   "metadata": {},
   "outputs": [],
   "source": [
    "seed = 1234\n",
    "key = jrandom.PRNGKey(seed)\n",
    "signature_depth = 12\n",
    "learning_rate = 2 * 1e-3\n",
    "num_training_iters = 5000"
   ]
  },
  {
   "cell_type": "markdown",
   "metadata": {},
   "source": [
    "### Preprocessing data\n",
    "Here we consider number 0"
   ]
  },
  {
   "cell_type": "code",
   "execution_count": 3,
   "metadata": {},
   "outputs": [],
   "source": [
    "# number zero (PenDigit)\n",
    "path = [29, 97, 0, 57, 22, 10, 68, 0, 100, 40, 83, 90, 37, 100, 12, 57]\n",
    "path = np.array(path, dtype=float).reshape(-1, 2)\n",
    "# rescale into range (-1,1)\n",
    "path = -1.0 + 2 * (path - np.min(path)) / (np.max(path) - np.min(path))\n",
    "path = jnp.array(path)"
   ]
  },
  {
   "cell_type": "markdown",
   "metadata": {},
   "source": [
    "Let's visualize the data"
   ]
  },
  {
   "cell_type": "code",
   "execution_count": 4,
   "metadata": {},
   "outputs": [
    {
     "data": {
      "text/plain": [
       "(-1.1, 1.1, -1.1, 1.1)"
      ]
     },
     "execution_count": 4,
     "metadata": {},
     "output_type": "execute_result"
    },
    {
     "data": {
      "image/png": "[encoded data removed]",
      "text/plain": [
       "<Figure size 432x288 with 1 Axes>"
      ]
     },
     "metadata": {
      "needs_background": "light"
     },
     "output_type": "display_data"
    }
   ],
   "source": [
    "plt.plot(*path.T, label=\"Original path\", linewidth=10, linestyle=\"-\")\n",
    "plt.axis(\"off\")"
   ]
  },
  {
   "cell_type": "markdown",
   "metadata": {},
   "source": [
    "Compute signature of the given data"
   ]
  },
  {
   "cell_type": "code",
   "execution_count": 5,
   "metadata": {},
   "outputs": [],
   "source": [
    "sig = signature(path, depth=signature_depth)"
   ]
  },
  {
   "cell_type": "markdown",
   "metadata": {},
   "source": [
    "### Model\n",
    "\n",
    "This model is quite simple: set of parameters (in `eqx.nn.Linear`) represents the path.\n",
    "\n",
    "The model outputs the signature of the learnable parameters."
   ]
  },
  {
   "cell_type": "code",
   "execution_count": 6,
   "metadata": {},
   "outputs": [],
   "source": [
    "class InvertSignature(eqx.Module):\n",
    "    path_length: int\n",
    "    signature_depth: int\n",
    "\n",
    "    # path represented as weight of linear layer\n",
    "    # can instead use `jnp.ndarray`\n",
    "    path: eqx.nn.Linear\n",
    "\n",
    "    def __init__(self, path_length, signature_depth, *, key) -> None:\n",
    "        self.path_length = path_length\n",
    "        self.signature_depth = signature_depth\n",
    "\n",
    "        self.path = eqx.nn.Linear(\n",
    "            in_features=1,\n",
    "            out_features=2 * path_length,\n",
    "            use_bias=False,\n",
    "            key=key,\n",
    "        )\n",
    "\n",
    "    def generate_path(self, x):\n",
    "        x = self.path(x)\n",
    "        return jnp.reshape(x, (self.path_length, 2))\n",
    "\n",
    "    def __call__(self, x):\n",
    "        x = self.generate_path(x)\n",
    "        return signature(path=x, depth=signature_depth)"
   ]
  },
  {
   "cell_type": "markdown",
   "metadata": {},
   "source": [
    "Model instantiation"
   ]
  },
  {
   "cell_type": "code",
   "execution_count": 7,
   "metadata": {},
   "outputs": [],
   "source": [
    "model = InvertSignature(\n",
    "    path_length=path.shape[0], signature_depth=signature_depth, key=key\n",
    ")"
   ]
  },
  {
   "cell_type": "markdown",
   "metadata": {},
   "source": [
    "Create optimizer"
   ]
  },
  {
   "cell_type": "code",
   "execution_count": 8,
   "metadata": {},
   "outputs": [],
   "source": [
    "optim = optax.adam(learning_rate=learning_rate)\n",
    "opt_state = optim.init(eqx.filter(model, eqx.is_array))"
   ]
  },
  {
   "cell_type": "markdown",
   "metadata": {},
   "source": [
    "A normalization term to compute the loss. The idea here is to penalize more higher order of signatures"
   ]
  },
  {
   "cell_type": "code",
   "execution_count": 9,
   "metadata": {},
   "outputs": [],
   "source": [
    "normalization = [\n",
    "    np.floor(np.log(i + 1) / np.log(2))\n",
    "    for i in range(1, 2 ** (signature_depth + 1) - 1)\n",
    "]\n",
    "normalization = jnp.array(normalization)"
   ]
  },
  {
   "cell_type": "markdown",
   "metadata": {},
   "source": [
    "In fact, the input of the model is fixed"
   ]
  },
  {
   "cell_type": "code",
   "execution_count": 10,
   "metadata": {},
   "outputs": [],
   "source": [
    "x = jnp.ones((1, 1))\n",
    "y = sig"
   ]
  },
  {
   "cell_type": "markdown",
   "metadata": {},
   "source": [
    "Compute loss in Equinox style"
   ]
  },
  {
   "cell_type": "code",
   "execution_count": 11,
   "metadata": {},
   "outputs": [],
   "source": [
    "@eqx.filter_value_and_grad\n",
    "def compute_loss(model):\n",
    "    pred_sig = model(x)\n",
    "    diff = y - pred_sig\n",
    "    diff = diff * normalization\n",
    "    return jnp.log(jnp.mean(diff**2))\n",
    "\n",
    "\n",
    "@eqx.filter_jit\n",
    "def make_step(model, opt_state):\n",
    "    loss, grads = compute_loss(model)\n",
    "    updates, opt_state = optim.update(grads, opt_state)\n",
    "    model = eqx.apply_updates(model, updates)\n",
    "    return loss, model, opt_state"
   ]
  },
  {
   "cell_type": "markdown",
   "metadata": {},
   "source": [
    "### Training step"
   ]
  },
  {
   "cell_type": "code",
   "execution_count": 12,
   "metadata": {},
   "outputs": [
    {
     "name": "stdout",
     "output_type": "stream",
     "text": [
      "Iter=0 \t loss=2.1267\n",
      "Iter=500 \t loss=-7.2811\n",
      "Iter=1000 \t loss=-7.6965\n",
      "Iter=1500 \t loss=-8.0481\n",
      "Iter=2000 \t loss=-8.3618\n",
      "Iter=2500 \t loss=-8.6392\n",
      "Iter=3000 \t loss=-8.9132\n",
      "Iter=3500 \t loss=-9.1947\n",
      "Iter=4000 \t loss=-9.4898\n",
      "Iter=4500 \t loss=-9.7994\n"
     ]
    }
   ],
   "source": [
    "for i in range(num_training_iters):\n",
    "    loss, model, opt_state = make_step(model, opt_state)\n",
    "    loss = loss.item()\n",
    "    if i % 500 == 0:\n",
    "        print(f\"Iter={i} \\t loss={loss:.4f}\")"
   ]
  },
  {
   "cell_type": "markdown",
   "metadata": {},
   "source": [
    "### Helper function to refine path\n",
    "The following two functions taken from [this file](https://github.com/patrick-kidger/Deep-Signature-Transforms/blob/master/src/signature_inversion.py)"
   ]
  },
  {
   "cell_type": "code",
   "execution_count": 13,
   "metadata": {},
   "outputs": [],
   "source": [
    "def _get_tree_reduced_steps(X, order=4, steps=4, tol=0.1):\n",
    "    if len(X) < steps:\n",
    "        return X\n",
    "\n",
    "    dim = X.shape[1]\n",
    "\n",
    "    # slide over a window size = `steps``\n",
    "    for i in range(steps - 1, len(X)):\n",
    "        # no redudancy in path -> compute its signature\n",
    "        new_path = X[i - steps + 1 : i + 1]  # noqa: E203\n",
    "        new_path_sig = signature(new_path, order)\n",
    "\n",
    "        # reduce the path with the first and the last\n",
    "        new_path2 = jnp.r_[\n",
    "            X[i - steps + 1].reshape(-1, dim),\n",
    "            X[i].reshape(-1, dim),\n",
    "        ]\n",
    "        new_path2_sig = signature(new_path2, order)\n",
    "\n",
    "        # compute the difference between two signatures\n",
    "        norm = jnp.linalg.norm(new_path_sig - new_path2_sig)\n",
    "        if norm < tol:\n",
    "            # if it is reducible, the perform the same procedure on the\n",
    "            # next sub path\n",
    "            return _get_tree_reduced_steps(np.r_[X[: i - steps + 2], X[i:]])\n",
    "\n",
    "    return X\n",
    "\n",
    "\n",
    "def get_tree_reduced(X, order=4, tol=0.1):\n",
    "    \"\"\"Removes tree-like pieces of the path.\"\"\"\n",
    "    X = jnp.r_[X, [X[-1]]]\n",
    "\n",
    "    for step in range(3, len(X) + 1):\n",
    "        X = _get_tree_reduced_steps(X, order, step, tol)\n",
    "\n",
    "    if (X[-1] == X[-2]).all():\n",
    "        return X[:-1]\n",
    "\n",
    "    return X"
   ]
  },
  {
   "cell_type": "markdown",
   "metadata": {},
   "source": [
    "### Plot result"
   ]
  },
  {
   "cell_type": "code",
   "execution_count": 14,
   "metadata": {},
   "outputs": [
    {
     "data": {
      "text/plain": [
       "(-1.1113732874393463, 1.1139612019062042, -1.1, 1.1)"
      ]
     },
     "execution_count": 14,
     "metadata": {},
     "output_type": "execute_result"
    },
    {
     "data": {
      "image/png": "[encoded data removed]",
      "text/plain": [
       "<Figure size 432x288 with 1 Axes>"
      ]
     },
     "metadata": {
      "needs_background": "light"
     },
     "output_type": "display_data"
    }
   ],
   "source": [
    "generated_path = model.generate_path(x)\n",
    "generated_path += path[0] - generated_path[0]\n",
    "generated_path = get_tree_reduced(generated_path, tol=1e-2)\n",
    "\n",
    "plt.plot(\n",
    "    *path.T,\n",
    "    label=\"Original path\",\n",
    "    linewidth=10,\n",
    "    linestyle=\"-\",\n",
    ")\n",
    "plt.plot(\n",
    "    *generated_path.T,\n",
    "    label=\"Generated path\",\n",
    "    linewidth=10,\n",
    "    linestyle=\"--\",\n",
    ")\n",
    "plt.axis(\"off\")"
   ]
  }
 ],
 "metadata": {
  "kernelspec": {
   "display_name": "Python 3.9.7 ('base')",
   "language": "python",
   "name": "python3"
  },
  "language_info": {
   "codemirror_mode": {
    "name": "ipython",
    "version": 3
   },
   "file_extension": ".py",
   "mimetype": "text/x-python",
   "name": "python",
   "nbconvert_exporter": "python",
   "pygments_lexer": "ipython3",
   "version": "3.9.7"
  },
  "orig_nbformat": 4,
  "vscode": {
   "interpreter": {
    "hash": "f7d1fba74dfd24f4e28e69f7ae18d3d17d4ecc25efd86b65572743c77fabf4a5"
   }
  }
 },
 "nbformat": 4,
 "nbformat_minor": 2
}

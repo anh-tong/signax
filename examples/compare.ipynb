{
 "cells": [
  {
   "cell_type": "markdown",
   "metadata": {},
   "source": [
    "## Benchmark between Signatory and Signax\n",
    "\n",
    "This is just a rough comparison. "
   ]
  },
  {
   "cell_type": "code",
   "execution_count": 1,
   "metadata": {
    "pycharm": {
     "name": "#%%\n"
    }
   },
   "outputs": [],
   "source": [
    "import jax\n",
    "import jax.numpy as jnp\n",
    "import matplotlib.pyplot as plt\n",
    "import numpy as np\n",
    "import signatory\n",
    "import torch\n",
    "from signax.signature import signature  # noqa: E501"
   ]
  },
  {
   "cell_type": "code",
   "execution_count": 2,
   "metadata": {},
   "outputs": [],
   "source": [
    "class Runner:\n",
    "    size: tuple\n",
    "    depth: int\n",
    "    platform: str\n",
    "\n",
    "    def __init__(self, size, depth, platform) -> None:\n",
    "        self.size = size\n",
    "        self.depth = depth\n",
    "        self.platform = platform\n",
    "\n",
    "    def setup(self):\n",
    "        assert len(self.size) == 3\n",
    "        assert self.depth > 0\n",
    "        assert self.platform == \"cpu\" or self.platform == \"gpu\"\n",
    "\n",
    "        path = np.random.randn(*self.size)\n",
    "\n",
    "        # setup for JAX\n",
    "        jax.config.update(\"jax_platform_name\", self.platform)\n",
    "        self.jax_path = jnp.array(path)\n",
    "\n",
    "        # set up for torch\n",
    "        if self.platform == \"cpu\":\n",
    "            device = torch.device(\"cpu\")\n",
    "        else:\n",
    "            assert torch.cuda.is_available()\n",
    "            device = torch.device(\"cuda\")\n",
    "\n",
    "        self.torch_path = torch.tensor(path).to(device).requires_grad_(True)\n",
    "\n",
    "    def run_jax(self, func):\n",
    "        func(self.jax_path, self.depth)\n",
    "\n",
    "    def run_torch(self, func):\n",
    "        func(self.torch_path, self.depth)"
   ]
  },
  {
   "cell_type": "markdown",
   "metadata": {},
   "source": [
    "### Function we want to test"
   ]
  },
  {
   "cell_type": "code",
   "execution_count": 3,
   "metadata": {},
   "outputs": [],
   "source": [
    "def jax_signature(X, depth):\n",
    "    result = jax.vmap(lambda x: signature(x, depth))(X)\n",
    "    [x.block_until_ready() for x in result]\n",
    "\n",
    "\n",
    "def torch_signature(X, depth):\n",
    "    signatory.signature(X, depth)\n",
    "\n",
    "\n",
    "def jax_signature_backward(X, depth):\n",
    "    def _fn(x):\n",
    "        sig = signature(x, depth)\n",
    "        return sum(map(jnp.sum, sig))\n",
    "\n",
    "    def _fn_batch(batch_x):\n",
    "        return jnp.sum(jax.vmap(_fn)(batch_x))\n",
    "\n",
    "    value, grad = jax.value_and_grad(_fn_batch)(X)\n",
    "    value.block_until_ready()\n",
    "    grad.block_until_ready()\n",
    "\n",
    "\n",
    "def torch_signature_backward(X, depth):\n",
    "    sig = signatory.signature(X.requires_grad_(True), depth)\n",
    "    loss = torch.sum(sig)\n",
    "    loss.backward()"
   ]
  },
  {
   "cell_type": "markdown",
   "metadata": {},
   "source": [
    "### Typical case with GPU"
   ]
  },
  {
   "cell_type": "code",
   "execution_count": 4,
   "metadata": {},
   "outputs": [],
   "source": [
    "size = (32, 128, 8)\n",
    "depth = 5\n",
    "platform = \"gpu\""
   ]
  },
  {
   "cell_type": "code",
   "execution_count": 5,
   "metadata": {},
   "outputs": [],
   "source": [
    "runner1 = Runner(size=size, depth=depth, platform=platform)\n",
    "runner1.setup()"
   ]
  },
  {
   "cell_type": "code",
   "execution_count": 6,
   "metadata": {},
   "outputs": [
    {
     "name": "stdout",
     "output_type": "stream",
     "text": [
      "6.59 ms ± 97.6 µs per loop (mean ± std. dev. of 7 runs, 1 loop each)\n"
     ]
    },
    {
     "data": {
      "text/plain": [
       "<TimeitResult : 6.59 ms ± 97.6 µs per loop (mean ± std. dev. of 7 runs, 1 loop each)>"
      ]
     },
     "execution_count": 6,
     "metadata": {},
     "output_type": "execute_result"
    }
   ],
   "source": [
    "%%timeit -o\n",
    "runner1.run_jax(jax_signature)"
   ]
  },
  {
   "cell_type": "code",
   "execution_count": 7,
   "metadata": {},
   "outputs": [],
   "source": [
    "result_jax = _  # noqa: F821"
   ]
  },
  {
   "cell_type": "code",
   "execution_count": 8,
   "metadata": {},
   "outputs": [
    {
     "name": "stdout",
     "output_type": "stream",
     "text": [
      "15.8 ms ± 873 ns per loop (mean ± std. dev. of 7 runs, 100 loops each)\n"
     ]
    },
    {
     "data": {
      "text/plain": [
       "<TimeitResult : 15.8 ms ± 873 ns per loop (mean ± std. dev. of 7 runs, 100 loops each)>"
      ]
     },
     "execution_count": 8,
     "metadata": {},
     "output_type": "execute_result"
    }
   ],
   "source": [
    "%%timeit -o\n",
    "runner1.run_torch(torch_signature)"
   ]
  },
  {
   "cell_type": "code",
   "execution_count": 9,
   "metadata": {},
   "outputs": [],
   "source": [
    "result_torch = _  # noqa: F821"
   ]
  },
  {
   "cell_type": "code",
   "execution_count": 10,
   "metadata": {},
   "outputs": [
    {
     "name": "stdout",
     "output_type": "stream",
     "text": [
      "47.4 ms ± 4.08 ms per loop (mean ± std. dev. of 7 runs, 1 loop each)\n"
     ]
    },
    {
     "data": {
      "text/plain": [
       "<TimeitResult : 47.4 ms ± 4.08 ms per loop (mean ± std. dev. of 7 runs, 1 loop each)>"
      ]
     },
     "execution_count": 10,
     "metadata": {},
     "output_type": "execute_result"
    }
   ],
   "source": [
    "%%timeit -o\n",
    "runner1.run_jax(jax_signature_backward)"
   ]
  },
  {
   "cell_type": "code",
   "execution_count": 11,
   "metadata": {},
   "outputs": [],
   "source": [
    "result_jax_backward = _  # noqa: F821"
   ]
  },
  {
   "cell_type": "code",
   "execution_count": 12,
   "metadata": {},
   "outputs": [
    {
     "name": "stdout",
     "output_type": "stream",
     "text": [
      "93.6 ms ± 3.18 ms per loop (mean ± std. dev. of 7 runs, 1 loop each)\n"
     ]
    },
    {
     "data": {
      "text/plain": [
       "<TimeitResult : 93.6 ms ± 3.18 ms per loop (mean ± std. dev. of 7 runs, 1 loop each)>"
      ]
     },
     "execution_count": 12,
     "metadata": {},
     "output_type": "execute_result"
    }
   ],
   "source": [
    "%%timeit -o\n",
    "runner1.run_torch(torch_signature_backward)"
   ]
  },
  {
   "cell_type": "code",
   "execution_count": 13,
   "metadata": {},
   "outputs": [],
   "source": [
    "result_torch_backward = _  # noqa: F821"
   ]
  },
  {
   "cell_type": "code",
   "execution_count": 14,
   "metadata": {},
   "outputs": [
    {
     "data": {
      "image/png": "[encoded data removed]",
      "text/plain": [
       "<Figure size 432x288 with 1 Axes>"
      ]
     },
     "metadata": {
      "needs_background": "light"
     },
     "output_type": "display_data"
    }
   ],
   "source": [
    "names = [\"JAX\", \"Pytorch\"]\n",
    "\n",
    "results = np.array(\n",
    "    [\n",
    "        1e3 * np.min(result_jax.all_runs) / result_jax.loops,\n",
    "        1e3 * np.min(result_torch.all_runs) / result_torch.loops,\n",
    "    ]\n",
    ")\n",
    "\n",
    "variations = np.array(\n",
    "    [\n",
    "        1e3 * np.ptp(result_jax.all_runs) / result_jax.loops,\n",
    "        1e3 * np.ptp(result_torch.all_runs) / result_torch.loops,\n",
    "    ]\n",
    ")\n",
    "\n",
    "fig, ax = plt.subplots()\n",
    "ax.barh(range(2), results)\n",
    "ax.errorbar(\n",
    "    results + variations / 2,\n",
    "    range(2),\n",
    "    xerr=variations / 2,\n",
    "    capsize=5,\n",
    "    fmt=\"none\",\n",
    ")\n",
    "ax.set_title(f\"Depth={depth}, Size={size}, Platform={platform.upper()}\")\n",
    "ax.set_yticks(range(len(names)))\n",
    "ax.set_yticklabels(names)\n",
    "fig.savefig(\"../assets/forward_gpu.png\", dpi=256)"
   ]
  },
  {
   "cell_type": "code",
   "execution_count": 15,
   "metadata": {},
   "outputs": [
    {
     "data": {
      "image/png": "[encoded data removed]",
      "text/plain": [
       "<Figure size 432x288 with 1 Axes>"
      ]
     },
     "metadata": {
      "needs_background": "light"
     },
     "output_type": "display_data"
    }
   ],
   "source": [
    "results = np.array(\n",
    "    [\n",
    "        1e3\n",
    "        * np.min(result_jax_backward.all_runs)\n",
    "        / result_jax_backward.loops,  # noqa: E501\n",
    "        1e3\n",
    "        * np.min(result_torch_backward.all_runs)\n",
    "        / result_torch_backward.loops,  # noqa: E501\n",
    "    ]\n",
    ")\n",
    "\n",
    "variations = np.array(\n",
    "    [\n",
    "        1e3 * np.ptp(result_jax_backward.all_runs) / result_jax_backward.loops,\n",
    "        1e3\n",
    "        * np.ptp(result_torch_backward.all_runs)\n",
    "        / result_torch_backward.loops,  # noqa: E501\n",
    "    ]\n",
    ")\n",
    "\n",
    "fig, ax = plt.subplots()\n",
    "ax.barh(range(2), results)\n",
    "ax.errorbar(\n",
    "    results + variations / 2,\n",
    "    range(2),\n",
    "    xerr=variations / 2,\n",
    "    capsize=5,\n",
    "    fmt=\"none\",\n",
    ")\n",
    "ax.set_title(f\"Depth={depth}, Size={size}, Platform={platform.upper()}\")\n",
    "ax.set_yticks(range(len(names)))\n",
    "ax.set_yticklabels(names)\n",
    "fig.savefig(\"../assets/backward_gpu.png\", dpi=256)"
   ]
  },
  {
   "cell_type": "markdown",
   "metadata": {},
   "source": [
    "### Typical case with CPU\n",
    "\n",
    "NOTE: The below result is done by restarting the notebook and skipping GPU setting because JAX does not reload the platform"
   ]
  },
  {
   "cell_type": "code",
   "execution_count": 4,
   "metadata": {},
   "outputs": [],
   "source": [
    "size = (32, 128, 8)\n",
    "depth = 5\n",
    "platform = \"cpu\"\n",
    "\n",
    "jax.config.update(\"jax_platform_name\", platform)"
   ]
  },
  {
   "cell_type": "code",
   "execution_count": 5,
   "metadata": {},
   "outputs": [],
   "source": [
    "runner1 = Runner(size=size, depth=depth, platform=platform)\n",
    "runner1.setup()"
   ]
  },
  {
   "cell_type": "code",
   "execution_count": 6,
   "metadata": {},
   "outputs": [
    {
     "name": "stdout",
     "output_type": "stream",
     "text": [
      "31.8 ms ± 2.54 ms per loop (mean ± std. dev. of 7 runs, 1 loop each)\n"
     ]
    },
    {
     "data": {
      "text/plain": [
       "<TimeitResult : 31.8 ms ± 2.54 ms per loop (mean ± std. dev. of 7 runs, 1 loop each)>"
      ]
     },
     "execution_count": 6,
     "metadata": {},
     "output_type": "execute_result"
    }
   ],
   "source": [
    "%%timeit -o\n",
    "runner1.run_jax(jax_signature)"
   ]
  },
  {
   "cell_type": "code",
   "execution_count": 7,
   "metadata": {},
   "outputs": [],
   "source": [
    "result_jax = _  # noqa: F821"
   ]
  },
  {
   "cell_type": "code",
   "execution_count": 8,
   "metadata": {},
   "outputs": [
    {
     "name": "stdout",
     "output_type": "stream",
     "text": [
      "47.9 ms ± 2.03 ms per loop (mean ± std. dev. of 7 runs, 10 loops each)\n"
     ]
    },
    {
     "data": {
      "text/plain": [
       "<TimeitResult : 47.9 ms ± 2.03 ms per loop (mean ± std. dev. of 7 runs, 10 loops each)>"
      ]
     },
     "execution_count": 8,
     "metadata": {},
     "output_type": "execute_result"
    }
   ],
   "source": [
    "%%timeit -o\n",
    "runner1.run_torch(torch_signature)"
   ]
  },
  {
   "cell_type": "code",
   "execution_count": 9,
   "metadata": {},
   "outputs": [],
   "source": [
    "result_torch = _  # noqa: F821"
   ]
  },
  {
   "cell_type": "code",
   "execution_count": 10,
   "metadata": {},
   "outputs": [
    {
     "name": "stdout",
     "output_type": "stream",
     "text": [
      "222 ms ± 14.1 ms per loop (mean ± std. dev. of 7 runs, 1 loop each)\n"
     ]
    },
    {
     "data": {
      "text/plain": [
       "<TimeitResult : 222 ms ± 14.1 ms per loop (mean ± std. dev. of 7 runs, 1 loop each)>"
      ]
     },
     "execution_count": 10,
     "metadata": {},
     "output_type": "execute_result"
    }
   ],
   "source": [
    "%%timeit -o\n",
    "runner1.run_jax(jax_signature_backward)"
   ]
  },
  {
   "cell_type": "code",
   "execution_count": 11,
   "metadata": {},
   "outputs": [],
   "source": [
    "result_jax_backward = _  # noqa: F821"
   ]
  },
  {
   "cell_type": "code",
   "execution_count": 12,
   "metadata": {},
   "outputs": [
    {
     "name": "stdout",
     "output_type": "stream",
     "text": [
      "513 ms ± 52.8 ms per loop (mean ± std. dev. of 7 runs, 1 loop each)\n"
     ]
    },
    {
     "data": {
      "text/plain": [
       "<TimeitResult : 513 ms ± 52.8 ms per loop (mean ± std. dev. of 7 runs, 1 loop each)>"
      ]
     },
     "execution_count": 12,
     "metadata": {},
     "output_type": "execute_result"
    }
   ],
   "source": [
    "%%timeit -o\n",
    "runner1.run_torch(torch_signature_backward)"
   ]
  },
  {
   "cell_type": "code",
   "execution_count": 13,
   "metadata": {},
   "outputs": [],
   "source": [
    "result_torch_backward = _  # noqa: F821"
   ]
  },
  {
   "cell_type": "code",
   "execution_count": 14,
   "metadata": {},
   "outputs": [
    {
     "data": {
      "image/png": "[encoded data removed]",
      "text/plain": [
       "<Figure size 432x288 with 1 Axes>"
      ]
     },
     "metadata": {
      "needs_background": "light"
     },
     "output_type": "display_data"
    }
   ],
   "source": [
    "names = [\"JAX\", \"Pytorch\"]\n",
    "\n",
    "results = np.array(\n",
    "    [\n",
    "        1e3 * np.min(result_jax.all_runs) / result_jax.loops,\n",
    "        1e3 * np.min(result_torch.all_runs) / result_torch.loops,\n",
    "    ]\n",
    ")\n",
    "\n",
    "variations = np.array(\n",
    "    [\n",
    "        1e3 * np.ptp(result_jax.all_runs) / result_jax.loops,\n",
    "        1e3 * np.ptp(result_torch.all_runs) / result_torch.loops,\n",
    "    ]\n",
    ")\n",
    "\n",
    "fig, ax = plt.subplots()\n",
    "ax.barh(range(2), results)\n",
    "ax.errorbar(\n",
    "    results + variations / 2,\n",
    "    range(2),\n",
    "    xerr=variations / 2,\n",
    "    capsize=5,\n",
    "    fmt=\"none\",\n",
    ")\n",
    "ax.set_title(\n",
    "    f\"Depth={depth}, \\\n",
    "    Size={size}, \\\n",
    "        Platform={platform.upper()}\"\n",
    ")\n",
    "ax.set_yticks(range(len(names)))\n",
    "ax.set_yticklabels(names)\n",
    "fig.savefig(\"../assets/forward_cpu.png\", dpi=256)"
   ]
  },
  {
   "cell_type": "code",
   "execution_count": 15,
   "metadata": {},
   "outputs": [
    {
     "data": {
      "image/png": "[encoded data removed]",
      "text/plain": [
       "<Figure size 432x288 with 1 Axes>"
      ]
     },
     "metadata": {
      "needs_background": "light"
     },
     "output_type": "display_data"
    }
   ],
   "source": [
    "results = np.array(\n",
    "    [\n",
    "        1e3\n",
    "        * np.min(result_jax_backward.all_runs)\n",
    "        / result_jax_backward.loops,  # noqa: E501\n",
    "        1e3\n",
    "        * np.min(result_torch_backward.all_runs)\n",
    "        / result_torch_backward.loops,  # noqa: E501\n",
    "    ]\n",
    ")\n",
    "\n",
    "variations = np.array(\n",
    "    [\n",
    "        1e3\n",
    "        * np.ptp(result_jax_backward.all_runs)\n",
    "        / result_jax_backward.loops,  # noqa: E501\n",
    "        1e3\n",
    "        * np.ptp(result_torch_backward.all_runs)\n",
    "        / result_torch_backward.loops,  # noqa: E501\n",
    "    ]\n",
    ")\n",
    "\n",
    "fig, ax = plt.subplots()\n",
    "ax.barh(range(2), results)\n",
    "ax.errorbar(\n",
    "    results + variations / 2,\n",
    "    range(2),\n",
    "    xerr=variations / 2,\n",
    "    capsize=5,\n",
    "    fmt=\"none\",\n",
    ")\n",
    "ax.set_title(\n",
    "    f\"Depth={depth}, \\\n",
    "    Size={size}, \\\n",
    "        Platform={platform.upper()}\"\n",
    ")  # noqa: E501\n",
    "ax.set_yticks(range(len(names)))\n",
    "ax.set_yticklabels(names)\n",
    "fig.savefig(\"../assets/backward_cpu.png\", dpi=256)"
   ]
  }
 ],
 "metadata": {
  "kernelspec": {
   "display_name": "Python 3.9.7 ('base')",
   "language": "python",
   "name": "python3"
  },
  "language_info": {
   "codemirror_mode": {
    "name": "ipython",
    "version": 3
   },
   "file_extension": ".py",
   "mimetype": "text/x-python",
   "name": "python",
   "nbconvert_exporter": "python",
   "pygments_lexer": "ipython3",
   "version": "3.9.7"
  },
  "orig_nbformat": 4,
  "vscode": {
   "interpreter": {
    "hash": "f7d1fba74dfd24f4e28e69f7ae18d3d17d4ecc25efd86b65572743c77fabf4a5"
   }
  }
 },
 "nbformat": 4,
 "nbformat_minor": 2
}
